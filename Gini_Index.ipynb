{
 "cells": [
  {
   "cell_type": "code",
   "execution_count": 61,
   "id": "05cd44ec",
   "metadata": {},
   "outputs": [],
   "source": [
    "import pandas as pd\n",
    "import numpy as np\n",
    "import seaborn as sns\n",
    "import matplotlib.pyplot as plt"
   ]
  },
  {
   "cell_type": "code",
   "execution_count": 62,
   "id": "98721b4c",
   "metadata": {},
   "outputs": [
    {
     "data": {
      "text/html": [
       "<div>\n",
       "<style scoped>\n",
       "    .dataframe tbody tr th:only-of-type {\n",
       "        vertical-align: middle;\n",
       "    }\n",
       "\n",
       "    .dataframe tbody tr th {\n",
       "        vertical-align: top;\n",
       "    }\n",
       "\n",
       "    .dataframe thead th {\n",
       "        text-align: right;\n",
       "    }\n",
       "</style>\n",
       "<table border=\"1\" class=\"dataframe\">\n",
       "  <thead>\n",
       "    <tr style=\"text-align: right;\">\n",
       "      <th></th>\n",
       "      <th>vhigh</th>\n",
       "      <th>vhigh.1</th>\n",
       "      <th>2</th>\n",
       "      <th>2.1</th>\n",
       "      <th>small</th>\n",
       "      <th>low</th>\n",
       "      <th>unacc</th>\n",
       "    </tr>\n",
       "  </thead>\n",
       "  <tbody>\n",
       "    <tr>\n",
       "      <th>0</th>\n",
       "      <td>vhigh</td>\n",
       "      <td>vhigh</td>\n",
       "      <td>2</td>\n",
       "      <td>2</td>\n",
       "      <td>small</td>\n",
       "      <td>med</td>\n",
       "      <td>unacc</td>\n",
       "    </tr>\n",
       "    <tr>\n",
       "      <th>1</th>\n",
       "      <td>vhigh</td>\n",
       "      <td>vhigh</td>\n",
       "      <td>2</td>\n",
       "      <td>2</td>\n",
       "      <td>small</td>\n",
       "      <td>high</td>\n",
       "      <td>unacc</td>\n",
       "    </tr>\n",
       "    <tr>\n",
       "      <th>2</th>\n",
       "      <td>vhigh</td>\n",
       "      <td>vhigh</td>\n",
       "      <td>2</td>\n",
       "      <td>2</td>\n",
       "      <td>med</td>\n",
       "      <td>low</td>\n",
       "      <td>unacc</td>\n",
       "    </tr>\n",
       "    <tr>\n",
       "      <th>3</th>\n",
       "      <td>vhigh</td>\n",
       "      <td>vhigh</td>\n",
       "      <td>2</td>\n",
       "      <td>2</td>\n",
       "      <td>med</td>\n",
       "      <td>med</td>\n",
       "      <td>unacc</td>\n",
       "    </tr>\n",
       "    <tr>\n",
       "      <th>4</th>\n",
       "      <td>vhigh</td>\n",
       "      <td>vhigh</td>\n",
       "      <td>2</td>\n",
       "      <td>2</td>\n",
       "      <td>med</td>\n",
       "      <td>high</td>\n",
       "      <td>unacc</td>\n",
       "    </tr>\n",
       "  </tbody>\n",
       "</table>\n",
       "</div>"
      ],
      "text/plain": [
       "   vhigh vhigh.1  2 2.1  small   low  unacc\n",
       "0  vhigh   vhigh  2   2  small   med  unacc\n",
       "1  vhigh   vhigh  2   2  small  high  unacc\n",
       "2  vhigh   vhigh  2   2    med   low  unacc\n",
       "3  vhigh   vhigh  2   2    med   med  unacc\n",
       "4  vhigh   vhigh  2   2    med  high  unacc"
      ]
     },
     "execution_count": 62,
     "metadata": {},
     "output_type": "execute_result"
    }
   ],
   "source": [
    "data = pd.read_csv(r'C:\\Users\\ankus\\OneDrive\\Desktop\\PYTHON\\Python_DS_INTERNSHIP\\DATASETS\\car_evaluation.csv')\n",
    "data.head()"
   ]
  },
  {
   "cell_type": "code",
   "execution_count": 63,
   "id": "3f2a6efe",
   "metadata": {},
   "outputs": [],
   "source": [
    "columns = ['value', 'maintanence', 'doors', 'person', 'boot', 'safety', 'target_class']"
   ]
  },
  {
   "cell_type": "code",
   "execution_count": 64,
   "id": "d052e356",
   "metadata": {},
   "outputs": [
    {
     "data": {
      "text/html": [
       "<div>\n",
       "<style scoped>\n",
       "    .dataframe tbody tr th:only-of-type {\n",
       "        vertical-align: middle;\n",
       "    }\n",
       "\n",
       "    .dataframe tbody tr th {\n",
       "        vertical-align: top;\n",
       "    }\n",
       "\n",
       "    .dataframe thead th {\n",
       "        text-align: right;\n",
       "    }\n",
       "</style>\n",
       "<table border=\"1\" class=\"dataframe\">\n",
       "  <thead>\n",
       "    <tr style=\"text-align: right;\">\n",
       "      <th></th>\n",
       "      <th>value</th>\n",
       "      <th>maintanence</th>\n",
       "      <th>doors</th>\n",
       "      <th>person</th>\n",
       "      <th>boot</th>\n",
       "      <th>safety</th>\n",
       "      <th>target_class</th>\n",
       "    </tr>\n",
       "  </thead>\n",
       "  <tbody>\n",
       "    <tr>\n",
       "      <th>0</th>\n",
       "      <td>vhigh</td>\n",
       "      <td>vhigh</td>\n",
       "      <td>2</td>\n",
       "      <td>2</td>\n",
       "      <td>small</td>\n",
       "      <td>med</td>\n",
       "      <td>unacc</td>\n",
       "    </tr>\n",
       "    <tr>\n",
       "      <th>1</th>\n",
       "      <td>vhigh</td>\n",
       "      <td>vhigh</td>\n",
       "      <td>2</td>\n",
       "      <td>2</td>\n",
       "      <td>small</td>\n",
       "      <td>high</td>\n",
       "      <td>unacc</td>\n",
       "    </tr>\n",
       "    <tr>\n",
       "      <th>2</th>\n",
       "      <td>vhigh</td>\n",
       "      <td>vhigh</td>\n",
       "      <td>2</td>\n",
       "      <td>2</td>\n",
       "      <td>med</td>\n",
       "      <td>low</td>\n",
       "      <td>unacc</td>\n",
       "    </tr>\n",
       "    <tr>\n",
       "      <th>3</th>\n",
       "      <td>vhigh</td>\n",
       "      <td>vhigh</td>\n",
       "      <td>2</td>\n",
       "      <td>2</td>\n",
       "      <td>med</td>\n",
       "      <td>med</td>\n",
       "      <td>unacc</td>\n",
       "    </tr>\n",
       "    <tr>\n",
       "      <th>4</th>\n",
       "      <td>vhigh</td>\n",
       "      <td>vhigh</td>\n",
       "      <td>2</td>\n",
       "      <td>2</td>\n",
       "      <td>med</td>\n",
       "      <td>high</td>\n",
       "      <td>unacc</td>\n",
       "    </tr>\n",
       "  </tbody>\n",
       "</table>\n",
       "</div>"
      ],
      "text/plain": [
       "   value maintanence doors person   boot safety target_class\n",
       "0  vhigh       vhigh     2      2  small    med        unacc\n",
       "1  vhigh       vhigh     2      2  small   high        unacc\n",
       "2  vhigh       vhigh     2      2    med    low        unacc\n",
       "3  vhigh       vhigh     2      2    med    med        unacc\n",
       "4  vhigh       vhigh     2      2    med   high        unacc"
      ]
     },
     "execution_count": 64,
     "metadata": {},
     "output_type": "execute_result"
    }
   ],
   "source": [
    "data.columns = columns\n",
    "data.head()"
   ]
  },
  {
   "cell_type": "code",
   "execution_count": 65,
   "id": "391b5a26",
   "metadata": {},
   "outputs": [
    {
     "data": {
      "text/plain": [
       "(1727, 7)"
      ]
     },
     "execution_count": 65,
     "metadata": {},
     "output_type": "execute_result"
    }
   ],
   "source": [
    "data.shape"
   ]
  },
  {
   "cell_type": "code",
   "execution_count": 66,
   "id": "3dd16501",
   "metadata": {},
   "outputs": [
    {
     "data": {
      "text/plain": [
       "high     432\n",
       "med      432\n",
       "low      432\n",
       "vhigh    431\n",
       "Name: value, dtype: int64"
      ]
     },
     "execution_count": 66,
     "metadata": {},
     "output_type": "execute_result"
    }
   ],
   "source": [
    "data.value.value_counts()"
   ]
  },
  {
   "cell_type": "code",
   "execution_count": 67,
   "id": "c3133ee1",
   "metadata": {},
   "outputs": [
    {
     "data": {
      "text/plain": [
       "array(['unacc', 'acc', 'vgood', 'good'], dtype=object)"
      ]
     },
     "execution_count": 67,
     "metadata": {},
     "output_type": "execute_result"
    }
   ],
   "source": [
    "data['target_class'].unique() "
   ]
  },
  {
   "cell_type": "code",
   "execution_count": 68,
   "id": "f8037d89",
   "metadata": {},
   "outputs": [
    {
     "data": {
      "text/plain": [
       "unacc    1209\n",
       "acc       384\n",
       "good       69\n",
       "vgood      65\n",
       "Name: target_class, dtype: int64"
      ]
     },
     "execution_count": 68,
     "metadata": {},
     "output_type": "execute_result"
    }
   ],
   "source": [
    "data['target_class'].value_counts() "
   ]
  },
  {
   "cell_type": "code",
   "execution_count": 69,
   "id": "114a58c4",
   "metadata": {},
   "outputs": [
    {
     "data": {
      "text/plain": [
       "1727"
      ]
     },
     "execution_count": 69,
     "metadata": {},
     "output_type": "execute_result"
    }
   ],
   "source": [
    "data['target_class'].value_counts().sum()"
   ]
  },
  {
   "cell_type": "code",
   "execution_count": 70,
   "id": "912d63f8",
   "metadata": {},
   "outputs": [],
   "source": [
    "x = data.drop(['target_class'], axis = 1)\n",
    "y = data['target_class']"
   ]
  },
  {
   "cell_type": "code",
   "execution_count": 71,
   "id": "0692111f",
   "metadata": {},
   "outputs": [
    {
     "data": {
      "text/html": [
       "<div>\n",
       "<style scoped>\n",
       "    .dataframe tbody tr th:only-of-type {\n",
       "        vertical-align: middle;\n",
       "    }\n",
       "\n",
       "    .dataframe tbody tr th {\n",
       "        vertical-align: top;\n",
       "    }\n",
       "\n",
       "    .dataframe thead th {\n",
       "        text-align: right;\n",
       "    }\n",
       "</style>\n",
       "<table border=\"1\" class=\"dataframe\">\n",
       "  <thead>\n",
       "    <tr style=\"text-align: right;\">\n",
       "      <th></th>\n",
       "      <th>value</th>\n",
       "      <th>maintanence</th>\n",
       "      <th>doors</th>\n",
       "      <th>person</th>\n",
       "      <th>boot</th>\n",
       "      <th>safety</th>\n",
       "    </tr>\n",
       "  </thead>\n",
       "  <tbody>\n",
       "    <tr>\n",
       "      <th>0</th>\n",
       "      <td>vhigh</td>\n",
       "      <td>vhigh</td>\n",
       "      <td>2</td>\n",
       "      <td>2</td>\n",
       "      <td>small</td>\n",
       "      <td>med</td>\n",
       "    </tr>\n",
       "    <tr>\n",
       "      <th>1</th>\n",
       "      <td>vhigh</td>\n",
       "      <td>vhigh</td>\n",
       "      <td>2</td>\n",
       "      <td>2</td>\n",
       "      <td>small</td>\n",
       "      <td>high</td>\n",
       "    </tr>\n",
       "    <tr>\n",
       "      <th>2</th>\n",
       "      <td>vhigh</td>\n",
       "      <td>vhigh</td>\n",
       "      <td>2</td>\n",
       "      <td>2</td>\n",
       "      <td>med</td>\n",
       "      <td>low</td>\n",
       "    </tr>\n",
       "    <tr>\n",
       "      <th>3</th>\n",
       "      <td>vhigh</td>\n",
       "      <td>vhigh</td>\n",
       "      <td>2</td>\n",
       "      <td>2</td>\n",
       "      <td>med</td>\n",
       "      <td>med</td>\n",
       "    </tr>\n",
       "    <tr>\n",
       "      <th>4</th>\n",
       "      <td>vhigh</td>\n",
       "      <td>vhigh</td>\n",
       "      <td>2</td>\n",
       "      <td>2</td>\n",
       "      <td>med</td>\n",
       "      <td>high</td>\n",
       "    </tr>\n",
       "  </tbody>\n",
       "</table>\n",
       "</div>"
      ],
      "text/plain": [
       "   value maintanence doors person   boot safety\n",
       "0  vhigh       vhigh     2      2  small    med\n",
       "1  vhigh       vhigh     2      2  small   high\n",
       "2  vhigh       vhigh     2      2    med    low\n",
       "3  vhigh       vhigh     2      2    med    med\n",
       "4  vhigh       vhigh     2      2    med   high"
      ]
     },
     "execution_count": 71,
     "metadata": {},
     "output_type": "execute_result"
    }
   ],
   "source": [
    "x.head()"
   ]
  },
  {
   "cell_type": "code",
   "execution_count": 72,
   "id": "b67154b4",
   "metadata": {},
   "outputs": [
    {
     "data": {
      "text/plain": [
       "0    unacc\n",
       "1    unacc\n",
       "2    unacc\n",
       "3    unacc\n",
       "4    unacc\n",
       "Name: target_class, dtype: object"
      ]
     },
     "execution_count": 72,
     "metadata": {},
     "output_type": "execute_result"
    }
   ],
   "source": [
    "y.head()"
   ]
  },
  {
   "cell_type": "code",
   "execution_count": 73,
   "id": "fd8dffc4",
   "metadata": {},
   "outputs": [
    {
     "name": "stdout",
     "output_type": "stream",
     "text": [
      "(1381, 6) (346, 6)\n"
     ]
    }
   ],
   "source": [
    "from sklearn.model_selection import train_test_split\n",
    "x_train,x_test,y_train,y_test = train_test_split(x,y, test_size=0.2, random_state = 42)\n",
    "print(x_train.shape, x_test.shape)"
   ]
  },
  {
   "cell_type": "code",
   "execution_count": 74,
   "id": "afaf783b",
   "metadata": {},
   "outputs": [
    {
     "name": "stdout",
     "output_type": "stream",
     "text": [
      "Requirement already satisfied: category_encoders in c:\\users\\ankus\\appdata\\roaming\\python\\python310\\site-packages (2.3.0)\n",
      "Requirement already satisfied: scipy>=1.0.0 in c:\\users\\ankus\\appdata\\local\\programs\\python\\python310\\lib\\site-packages (from category_encoders) (1.8.0)\n",
      "Requirement already satisfied: pandas>=0.21.1 in c:\\users\\ankus\\appdata\\local\\programs\\python\\python310\\lib\\site-packages (from category_encoders) (1.3.5)\n",
      "Requirement already satisfied: scikit-learn>=0.20.0 in c:\\users\\ankus\\appdata\\local\\programs\\python\\python310\\lib\\site-packages (from category_encoders) (1.0.2)\n",
      "Requirement already satisfied: numpy>=1.14.0 in c:\\users\\ankus\\appdata\\local\\programs\\python\\python310\\lib\\site-packages (from category_encoders) (1.22.1)\n",
      "Requirement already satisfied: patsy>=0.5.1 in c:\\users\\ankus\\appdata\\roaming\\python\\python310\\site-packages (from category_encoders) (0.5.2)\n",
      "Requirement already satisfied: statsmodels>=0.9.0 in c:\\users\\ankus\\appdata\\roaming\\python\\python310\\site-packages (from category_encoders) (0.13.2)\n",
      "Requirement already satisfied: python-dateutil>=2.7.3 in c:\\users\\ankus\\appdata\\local\\programs\\python\\python310\\lib\\site-packages (from pandas>=0.21.1->category_encoders) (2.8.2)\n",
      "Requirement already satisfied: pytz>=2017.3 in c:\\users\\ankus\\appdata\\local\\programs\\python\\python310\\lib\\site-packages (from pandas>=0.21.1->category_encoders) (2021.3)\n",
      "Requirement already satisfied: six in c:\\users\\ankus\\appdata\\local\\programs\\python\\python310\\lib\\site-packages (from patsy>=0.5.1->category_encoders) (1.16.0)\n",
      "Requirement already satisfied: joblib>=0.11 in c:\\users\\ankus\\appdata\\local\\programs\\python\\python310\\lib\\site-packages (from scikit-learn>=0.20.0->category_encoders) (1.1.0)\n",
      "Requirement already satisfied: threadpoolctl>=2.0.0 in c:\\users\\ankus\\appdata\\local\\programs\\python\\python310\\lib\\site-packages (from scikit-learn>=0.20.0->category_encoders) (3.1.0)\n",
      "Requirement already satisfied: packaging>=21.3 in c:\\users\\ankus\\appdata\\local\\programs\\python\\python310\\lib\\site-packages (from statsmodels>=0.9.0->category_encoders) (21.3)\n",
      "Requirement already satisfied: pyparsing!=3.0.5,>=2.0.2 in c:\\users\\ankus\\appdata\\local\\programs\\python\\python310\\lib\\site-packages (from packaging>=21.3->statsmodels>=0.9.0->category_encoders) (3.0.7)\n"
     ]
    }
   ],
   "source": [
    "!pip install category_encoders"
   ]
  },
  {
   "cell_type": "code",
   "execution_count": 75,
   "id": "d3085834",
   "metadata": {},
   "outputs": [],
   "source": [
    "import category_encoders as ce\n",
    "encoder = ce.OrdinalEncoder(cols = ['value', 'maintanence', 'doors', 'person', 'boot', 'safety'])\n",
    "x_train = encoder.fit_transform(x_train)  # fit_transform 1st fit the record and then transform.\n",
    "x_test = encoder.fit_transform(x_test)"
   ]
  },
  {
   "cell_type": "code",
   "execution_count": 76,
   "id": "ee495a67",
   "metadata": {},
   "outputs": [
    {
     "name": "stdout",
     "output_type": "stream",
     "text": [
      "      value  maintanence  doors  person  boot  safety\n",
      "107       1            1      1       1     1       1\n",
      "900       2            2      2       2     1       2\n",
      "1708      3            3      3       1     2       3\n",
      "705       4            4      4       1     3       2\n",
      "678       4            4      2       1     3       2\n"
     ]
    }
   ],
   "source": [
    "print(x_train[0:5])"
   ]
  },
  {
   "cell_type": "code",
   "execution_count": 57,
   "id": "1fc2712b",
   "metadata": {},
   "outputs": [
    {
     "data": {
      "text/plain": [
       "DecisionTreeClassifier(max_depth=50, random_state=0)"
      ]
     },
     "execution_count": 57,
     "metadata": {},
     "output_type": "execute_result"
    }
   ],
   "source": [
    "from sklearn.tree import DecisionTreeClassifier\n",
    "DT_gini =   DecisionTreeClassifier(criterion='gini', max_depth=7, random_state=0 )\n",
    "DT_gini.fit(x_train, y_train)"
   ]
  },
  {
   "cell_type": "code",
   "execution_count": 58,
   "id": "b6efcbdf",
   "metadata": {},
   "outputs": [
    {
     "name": "stdout",
     "output_type": "stream",
     "text": [
      "['unacc' 'unacc' 'unacc' 'acc' 'unacc' 'acc' 'unacc' 'unacc' 'unacc'\n",
      " 'unacc' 'vgood' 'unacc' 'unacc' 'unacc' 'unacc' 'unacc' 'unacc' 'unacc'\n",
      " 'unacc' 'vgood' 'unacc' 'unacc' 'acc' 'unacc' 'unacc' 'acc' 'unacc'\n",
      " 'unacc' 'unacc' 'unacc' 'acc' 'unacc' 'unacc' 'good' 'unacc' 'unacc'\n",
      " 'good' 'unacc' 'unacc' 'vgood' 'acc' 'good' 'unacc' 'unacc' 'good'\n",
      " 'vgood' 'unacc' 'unacc' 'unacc' 'unacc' 'unacc' 'unacc' 'acc' 'acc'\n",
      " 'unacc' 'unacc' 'unacc' 'unacc' 'unacc' 'acc' 'unacc' 'unacc' 'unacc'\n",
      " 'unacc' 'unacc' 'vgood' 'unacc' 'unacc' 'acc' 'unacc' 'vgood' 'unacc'\n",
      " 'unacc' 'unacc' 'unacc' 'acc' 'unacc' 'unacc' 'unacc' 'unacc' 'vgood'\n",
      " 'unacc' 'unacc' 'acc' 'unacc' 'acc' 'unacc' 'unacc' 'acc' 'acc' 'unacc'\n",
      " 'good' 'unacc' 'unacc' 'unacc' 'unacc' 'unacc' 'unacc' 'unacc' 'acc'\n",
      " 'unacc' 'unacc' 'unacc' 'unacc' 'unacc' 'good' 'acc' 'unacc' 'unacc'\n",
      " 'acc' 'unacc' 'acc' 'unacc' 'unacc' 'acc' 'unacc' 'unacc' 'unacc' 'unacc'\n",
      " 'unacc' 'unacc' 'acc' 'unacc' 'acc' 'acc' 'unacc' 'acc' 'unacc' 'unacc'\n",
      " 'unacc' 'unacc' 'unacc' 'unacc' 'unacc' 'unacc' 'unacc' 'unacc' 'unacc'\n",
      " 'unacc' 'unacc' 'unacc' 'acc' 'unacc' 'acc' 'unacc' 'acc' 'unacc' 'unacc'\n",
      " 'acc' 'unacc' 'acc' 'vgood' 'unacc' 'unacc' 'unacc' 'unacc' 'unacc'\n",
      " 'unacc' 'unacc' 'unacc' 'acc' 'acc' 'unacc' 'good' 'unacc' 'vgood' 'acc'\n",
      " 'acc' 'unacc' 'vgood' 'acc' 'unacc' 'good' 'unacc' 'acc' 'acc' 'vgood'\n",
      " 'unacc' 'acc' 'unacc' 'acc' 'unacc' 'unacc' 'acc' 'good' 'unacc' 'unacc'\n",
      " 'unacc' 'unacc' 'unacc' 'unacc' 'acc' 'acc' 'unacc' 'unacc' 'unacc' 'acc'\n",
      " 'unacc' 'unacc' 'unacc' 'unacc' 'unacc' 'unacc' 'vgood' 'unacc' 'acc'\n",
      " 'unacc' 'acc' 'unacc' 'good' 'unacc' 'unacc' 'acc' 'unacc' 'unacc'\n",
      " 'unacc' 'unacc' 'unacc' 'unacc' 'vgood' 'vgood' 'unacc' 'unacc' 'acc'\n",
      " 'vgood' 'acc' 'acc' 'acc' 'unacc' 'unacc' 'acc' 'unacc' 'unacc' 'unacc'\n",
      " 'acc' 'unacc' 'acc' 'unacc' 'unacc' 'unacc' 'unacc' 'unacc' 'unacc'\n",
      " 'unacc' 'unacc' 'unacc' 'unacc' 'unacc' 'unacc' 'unacc' 'unacc' 'unacc'\n",
      " 'unacc' 'acc' 'acc' 'unacc' 'unacc' 'unacc' 'unacc' 'unacc' 'acc' 'unacc'\n",
      " 'good' 'unacc' 'unacc' 'unacc' 'acc' 'acc' 'unacc' 'unacc' 'unacc'\n",
      " 'unacc' 'acc' 'unacc' 'acc' 'acc' 'acc' 'good' 'unacc' 'unacc' 'unacc'\n",
      " 'good' 'unacc' 'acc' 'acc' 'acc' 'unacc' 'good' 'vgood' 'unacc' 'good'\n",
      " 'unacc' 'unacc' 'unacc' 'acc' 'vgood' 'unacc' 'unacc' 'unacc' 'unacc'\n",
      " 'acc' 'acc' 'unacc' 'unacc' 'unacc' 'unacc' 'unacc' 'unacc' 'acc' 'unacc'\n",
      " 'vgood' 'unacc' 'unacc' 'unacc' 'unacc' 'acc' 'acc' 'acc' 'unacc' 'unacc'\n",
      " 'acc' 'unacc' 'unacc' 'unacc' 'unacc' 'unacc' 'good' 'acc' 'unacc'\n",
      " 'unacc' 'unacc' 'unacc' 'unacc' 'unacc' 'unacc' 'unacc' 'unacc' 'acc'\n",
      " 'unacc' 'unacc' 'unacc' 'unacc' 'unacc' 'unacc' 'unacc' 'unacc']\n"
     ]
    }
   ],
   "source": [
    "y_predict_gini = DT_gini.predict(x_test) # here we have predicted values for our x_test data.\n",
    "print(y_predict_gini)"
   ]
  },
  {
   "cell_type": "code",
   "execution_count": 59,
   "id": "81ea8e10",
   "metadata": {},
   "outputs": [
    {
     "name": "stdout",
     "output_type": "stream",
     "text": [
      "Model Accuracy is  0.9653179190751445\n"
     ]
    }
   ],
   "source": [
    "from sklearn.metrics import accuracy_score\n",
    "print('Model Accuracy is ', accuracy_score(y_test, y_predict_gini))"
   ]
  },
  {
   "cell_type": "code",
   "execution_count": 60,
   "id": "8c064b64",
   "metadata": {},
   "outputs": [
    {
     "data": {
      "text/plain": [
       "[Text(0.47574013157894735, 0.9642857142857143, 'X[5] <= 1.5\\ngini = 0.452\\nsamples = 1381\\nvalue = [307, 54, 972, 48]'),\n",
       " Text(0.46258223684210525, 0.8928571428571429, 'gini = 0.0\\nsamples = 467\\nvalue = [0, 0, 467, 0]'),\n",
       " Text(0.4888980263157895, 0.8928571428571429, 'X[3] <= 1.5\\ngini = 0.576\\nsamples = 914\\nvalue = [307, 54, 505, 48]'),\n",
       " Text(0.47574013157894735, 0.8214285714285714, 'gini = 0.0\\nsamples = 299\\nvalue = [0, 0, 299, 0]'),\n",
       " Text(0.5020559210526315, 0.8214285714285714, 'X[1] <= 2.5\\ngini = 0.625\\nsamples = 615\\nvalue = [307, 54, 206, 48]'),\n",
       " Text(0.2450657894736842, 0.75, 'X[0] <= 1.5\\ngini = 0.523\\nsamples = 301\\nvalue = [136, 0, 157, 8]'),\n",
       " Text(0.23190789473684212, 0.6785714285714286, 'gini = 0.0\\nsamples = 77\\nvalue = [0, 0, 77, 0]'),\n",
       " Text(0.2582236842105263, 0.6785714285714286, 'X[0] <= 3.5\\ngini = 0.503\\nsamples = 224\\nvalue = [136, 0, 80, 8]'),\n",
       " Text(0.14802631578947367, 0.6071428571428571, 'X[4] <= 1.5\\ngini = 0.431\\nsamples = 148\\nvalue = [106, 0, 34, 8]'),\n",
       " Text(0.07894736842105263, 0.5357142857142857, 'X[5] <= 2.5\\ngini = 0.496\\nsamples = 55\\nvalue = [30, 0, 25, 0]'),\n",
       " Text(0.039473684210526314, 0.4642857142857143, 'X[0] <= 2.5\\ngini = 0.346\\nsamples = 27\\nvalue = [6, 0, 21, 0]'),\n",
       " Text(0.02631578947368421, 0.39285714285714285, 'gini = 0.0\\nsamples = 14\\nvalue = [0, 0, 14, 0]'),\n",
       " Text(0.05263157894736842, 0.39285714285714285, 'X[1] <= 1.5\\ngini = 0.497\\nsamples = 13\\nvalue = [6, 0, 7, 0]'),\n",
       " Text(0.039473684210526314, 0.32142857142857145, 'X[2] <= 1.5\\ngini = 0.245\\nsamples = 7\\nvalue = [6, 0, 1, 0]'),\n",
       " Text(0.02631578947368421, 0.25, 'X[3] <= 2.5\\ngini = 0.5\\nsamples = 2\\nvalue = [1, 0, 1, 0]'),\n",
       " Text(0.013157894736842105, 0.17857142857142858, 'gini = 0.0\\nsamples = 1\\nvalue = [1, 0, 0, 0]'),\n",
       " Text(0.039473684210526314, 0.17857142857142858, 'gini = 0.0\\nsamples = 1\\nvalue = [0, 0, 1, 0]'),\n",
       " Text(0.05263157894736842, 0.25, 'gini = 0.0\\nsamples = 5\\nvalue = [5, 0, 0, 0]'),\n",
       " Text(0.06578947368421052, 0.32142857142857145, 'gini = 0.0\\nsamples = 6\\nvalue = [0, 0, 6, 0]'),\n",
       " Text(0.11842105263157894, 0.4642857142857143, 'X[2] <= 1.5\\ngini = 0.245\\nsamples = 28\\nvalue = [24, 0, 4, 0]'),\n",
       " Text(0.10526315789473684, 0.39285714285714285, 'X[3] <= 2.5\\ngini = 0.49\\nsamples = 7\\nvalue = [3, 0, 4, 0]'),\n",
       " Text(0.09210526315789473, 0.32142857142857145, 'gini = 0.0\\nsamples = 3\\nvalue = [3, 0, 0, 0]'),\n",
       " Text(0.11842105263157894, 0.32142857142857145, 'gini = 0.0\\nsamples = 4\\nvalue = [0, 0, 4, 0]'),\n",
       " Text(0.13157894736842105, 0.39285714285714285, 'gini = 0.0\\nsamples = 21\\nvalue = [21, 0, 0, 0]'),\n",
       " Text(0.21710526315789475, 0.5357142857142857, 'X[5] <= 2.5\\ngini = 0.315\\nsamples = 93\\nvalue = [76, 0, 9, 8]'),\n",
       " Text(0.17105263157894737, 0.4642857142857143, 'X[2] <= 2.5\\ngini = 0.305\\nsamples = 48\\nvalue = [39, 0, 9, 0]'),\n",
       " Text(0.15789473684210525, 0.39285714285714285, 'X[4] <= 2.5\\ngini = 0.453\\nsamples = 26\\nvalue = [17, 0, 9, 0]'),\n",
       " Text(0.14473684210526316, 0.32142857142857145, 'gini = 0.0\\nsamples = 12\\nvalue = [12, 0, 0, 0]'),\n",
       " Text(0.17105263157894737, 0.32142857142857145, 'X[1] <= 1.5\\ngini = 0.459\\nsamples = 14\\nvalue = [5, 0, 9, 0]'),\n",
       " Text(0.14473684210526316, 0.25, 'X[0] <= 2.5\\ngini = 0.49\\nsamples = 7\\nvalue = [4, 0, 3, 0]'),\n",
       " Text(0.13157894736842105, 0.17857142857142858, 'X[3] <= 2.5\\ngini = 0.375\\nsamples = 4\\nvalue = [1, 0, 3, 0]'),\n",
       " Text(0.11842105263157894, 0.10714285714285714, 'gini = 0.0\\nsamples = 2\\nvalue = [0, 0, 2, 0]'),\n",
       " Text(0.14473684210526316, 0.10714285714285714, 'X[2] <= 1.5\\ngini = 0.5\\nsamples = 2\\nvalue = [1, 0, 1, 0]'),\n",
       " Text(0.13157894736842105, 0.03571428571428571, 'gini = 0.0\\nsamples = 1\\nvalue = [0, 0, 1, 0]'),\n",
       " Text(0.15789473684210525, 0.03571428571428571, 'gini = 0.0\\nsamples = 1\\nvalue = [1, 0, 0, 0]'),\n",
       " Text(0.15789473684210525, 0.17857142857142858, 'gini = 0.0\\nsamples = 3\\nvalue = [3, 0, 0, 0]'),\n",
       " Text(0.19736842105263158, 0.25, 'X[3] <= 2.5\\ngini = 0.245\\nsamples = 7\\nvalue = [1, 0, 6, 0]'),\n",
       " Text(0.18421052631578946, 0.17857142857142858, 'gini = 0.0\\nsamples = 4\\nvalue = [0, 0, 4, 0]'),\n",
       " Text(0.21052631578947367, 0.17857142857142858, 'X[2] <= 1.5\\ngini = 0.444\\nsamples = 3\\nvalue = [1, 0, 2, 0]'),\n",
       " Text(0.19736842105263158, 0.10714285714285714, 'gini = 0.0\\nsamples = 2\\nvalue = [0, 0, 2, 0]'),\n",
       " Text(0.2236842105263158, 0.10714285714285714, 'gini = 0.0\\nsamples = 1\\nvalue = [1, 0, 0, 0]'),\n",
       " Text(0.18421052631578946, 0.39285714285714285, 'gini = 0.0\\nsamples = 22\\nvalue = [22, 0, 0, 0]'),\n",
       " Text(0.2631578947368421, 0.4642857142857143, 'X[1] <= 1.5\\ngini = 0.292\\nsamples = 45\\nvalue = [37, 0, 0, 8]'),\n",
       " Text(0.25, 0.39285714285714285, 'X[0] <= 2.5\\ngini = 0.463\\nsamples = 22\\nvalue = [14, 0, 0, 8]'),\n",
       " Text(0.23684210526315788, 0.32142857142857145, 'gini = 0.0\\nsamples = 12\\nvalue = [12, 0, 0, 0]'),\n",
       " Text(0.2631578947368421, 0.32142857142857145, 'X[2] <= 1.5\\ngini = 0.32\\nsamples = 10\\nvalue = [2, 0, 0, 8]'),\n",
       " Text(0.25, 0.25, 'X[4] <= 2.5\\ngini = 0.444\\nsamples = 3\\nvalue = [2, 0, 0, 1]'),\n",
       " Text(0.23684210526315788, 0.17857142857142858, 'gini = 0.0\\nsamples = 1\\nvalue = [0, 0, 0, 1]'),\n",
       " Text(0.2631578947368421, 0.17857142857142858, 'gini = 0.0\\nsamples = 2\\nvalue = [2, 0, 0, 0]'),\n",
       " Text(0.27631578947368424, 0.25, 'gini = 0.0\\nsamples = 7\\nvalue = [0, 0, 0, 7]'),\n",
       " Text(0.27631578947368424, 0.39285714285714285, 'gini = 0.0\\nsamples = 23\\nvalue = [23, 0, 0, 0]'),\n",
       " Text(0.3684210526315789, 0.6071428571428571, 'X[1] <= 1.5\\ngini = 0.478\\nsamples = 76\\nvalue = [30, 0, 46, 0]'),\n",
       " Text(0.35526315789473684, 0.5357142857142857, 'X[4] <= 1.5\\ngini = 0.355\\nsamples = 39\\nvalue = [30, 0, 9, 0]'),\n",
       " Text(0.3157894736842105, 0.4642857142857143, 'X[5] <= 2.5\\ngini = 0.498\\nsamples = 15\\nvalue = [7, 0, 8, 0]'),\n",
       " Text(0.3026315789473684, 0.39285714285714285, 'gini = 0.0\\nsamples = 7\\nvalue = [0, 0, 7, 0]'),\n",
       " Text(0.32894736842105265, 0.39285714285714285, 'X[2] <= 1.5\\ngini = 0.219\\nsamples = 8\\nvalue = [7, 0, 1, 0]'),\n",
       " Text(0.3157894736842105, 0.32142857142857145, 'X[3] <= 2.5\\ngini = 0.5\\nsamples = 2\\nvalue = [1, 0, 1, 0]'),\n",
       " Text(0.3026315789473684, 0.25, 'gini = 0.0\\nsamples = 1\\nvalue = [1, 0, 0, 0]'),\n",
       " Text(0.32894736842105265, 0.25, 'gini = 0.0\\nsamples = 1\\nvalue = [0, 0, 1, 0]'),\n",
       " Text(0.34210526315789475, 0.32142857142857145, 'gini = 0.0\\nsamples = 6\\nvalue = [6, 0, 0, 0]'),\n",
       " Text(0.39473684210526316, 0.4642857142857143, 'X[5] <= 2.5\\ngini = 0.08\\nsamples = 24\\nvalue = [23, 0, 1, 0]'),\n",
       " Text(0.3815789473684211, 0.39285714285714285, 'X[2] <= 2.5\\ngini = 0.165\\nsamples = 11\\nvalue = [10, 0, 1, 0]'),\n",
       " Text(0.3684210526315789, 0.32142857142857145, 'X[3] <= 2.5\\ngini = 0.375\\nsamples = 4\\nvalue = [3, 0, 1, 0]'),\n",
       " Text(0.35526315789473684, 0.25, 'gini = 0.0\\nsamples = 1\\nvalue = [0, 0, 1, 0]'),\n",
       " Text(0.3815789473684211, 0.25, 'gini = 0.0\\nsamples = 3\\nvalue = [3, 0, 0, 0]'),\n",
       " Text(0.39473684210526316, 0.32142857142857145, 'gini = 0.0\\nsamples = 7\\nvalue = [7, 0, 0, 0]'),\n",
       " Text(0.40789473684210525, 0.39285714285714285, 'gini = 0.0\\nsamples = 13\\nvalue = [13, 0, 0, 0]'),\n",
       " Text(0.3815789473684211, 0.5357142857142857, 'gini = 0.0\\nsamples = 37\\nvalue = [0, 0, 37, 0]'),\n",
       " Text(0.759046052631579, 0.75, 'X[0] <= 3.5\\ngini = 0.633\\nsamples = 314\\nvalue = [171, 54, 49, 40]'),\n",
       " Text(0.5838815789473685, 0.6785714285714286, 'X[0] <= 1.5\\ngini = 0.678\\nsamples = 229\\nvalue = [108, 54, 27, 40]'),\n",
       " Text(0.47368421052631576, 0.6071428571428571, 'X[4] <= 1.5\\ngini = 0.378\\nsamples = 79\\nvalue = [59, 0, 20, 0]'),\n",
       " Text(0.4342105263157895, 0.5357142857142857, 'X[5] <= 2.5\\ngini = 0.488\\nsamples = 26\\nvalue = [11, 0, 15, 0]'),\n",
       " Text(0.42105263157894735, 0.4642857142857143, 'gini = 0.0\\nsamples = 13\\nvalue = [0, 0, 13, 0]'),\n",
       " Text(0.4473684210526316, 0.4642857142857143, 'X[2] <= 1.5\\ngini = 0.26\\nsamples = 13\\nvalue = [11, 0, 2, 0]'),\n",
       " Text(0.4342105263157895, 0.39285714285714285, 'X[3] <= 2.5\\ngini = 0.5\\nsamples = 4\\nvalue = [2, 0, 2, 0]'),\n",
       " Text(0.42105263157894735, 0.32142857142857145, 'gini = 0.0\\nsamples = 2\\nvalue = [2, 0, 0, 0]'),\n",
       " Text(0.4473684210526316, 0.32142857142857145, 'gini = 0.0\\nsamples = 2\\nvalue = [0, 0, 2, 0]'),\n",
       " Text(0.4605263157894737, 0.39285714285714285, 'gini = 0.0\\nsamples = 9\\nvalue = [9, 0, 0, 0]'),\n",
       " Text(0.5131578947368421, 0.5357142857142857, 'X[2] <= 2.5\\ngini = 0.171\\nsamples = 53\\nvalue = [48, 0, 5, 0]'),\n",
       " Text(0.5, 0.4642857142857143, 'X[5] <= 2.5\\ngini = 0.32\\nsamples = 25\\nvalue = [20, 0, 5, 0]'),\n",
       " Text(0.4868421052631579, 0.39285714285714285, 'X[4] <= 2.5\\ngini = 0.486\\nsamples = 12\\nvalue = [7, 0, 5, 0]'),\n",
       " Text(0.47368421052631576, 0.32142857142857145, 'gini = 0.0\\nsamples = 5\\nvalue = [5, 0, 0, 0]'),\n",
       " Text(0.5, 0.32142857142857145, 'X[3] <= 2.5\\ngini = 0.408\\nsamples = 7\\nvalue = [2, 0, 5, 0]'),\n",
       " Text(0.4868421052631579, 0.25, 'gini = 0.0\\nsamples = 4\\nvalue = [0, 0, 4, 0]'),\n",
       " Text(0.5131578947368421, 0.25, 'X[2] <= 1.5\\ngini = 0.444\\nsamples = 3\\nvalue = [2, 0, 1, 0]'),\n",
       " Text(0.5, 0.17857142857142858, 'gini = 0.0\\nsamples = 1\\nvalue = [0, 0, 1, 0]'),\n",
       " Text(0.5263157894736842, 0.17857142857142858, 'gini = 0.0\\nsamples = 2\\nvalue = [2, 0, 0, 0]'),\n",
       " Text(0.5131578947368421, 0.39285714285714285, 'gini = 0.0\\nsamples = 13\\nvalue = [13, 0, 0, 0]'),\n",
       " Text(0.5263157894736842, 0.4642857142857143, 'gini = 0.0\\nsamples = 28\\nvalue = [28, 0, 0, 0]'),\n",
       " Text(0.694078947368421, 0.6071428571428571, 'X[5] <= 2.5\\ngini = 0.69\\nsamples = 150\\nvalue = [49, 54, 7, 40]'),\n",
       " Text(0.5921052631578947, 0.5357142857142857, 'X[4] <= 1.5\\ngini = 0.529\\nsamples = 80\\nvalue = [43, 34, 3, 0]'),\n",
       " Text(0.5526315789473685, 0.4642857142857143, 'X[2] <= 1.5\\ngini = 0.211\\nsamples = 25\\nvalue = [22, 0, 3, 0]'),\n",
       " Text(0.5394736842105263, 0.39285714285714285, 'X[3] <= 2.5\\ngini = 0.5\\nsamples = 6\\nvalue = [3, 0, 3, 0]'),\n",
       " Text(0.5263157894736842, 0.32142857142857145, 'gini = 0.0\\nsamples = 3\\nvalue = [3, 0, 0, 0]'),\n",
       " Text(0.5526315789473685, 0.32142857142857145, 'gini = 0.0\\nsamples = 3\\nvalue = [0, 0, 3, 0]'),\n",
       " Text(0.5657894736842105, 0.39285714285714285, 'gini = 0.0\\nsamples = 19\\nvalue = [19, 0, 0, 0]'),\n",
       " Text(0.631578947368421, 0.4642857142857143, 'X[1] <= 3.5\\ngini = 0.472\\nsamples = 55\\nvalue = [21, 34, 0, 0]'),\n",
       " Text(0.5921052631578947, 0.39285714285714285, 'X[4] <= 2.5\\ngini = 0.204\\nsamples = 26\\nvalue = [3, 23, 0, 0]'),\n",
       " Text(0.5789473684210527, 0.32142857142857145, 'gini = 0.0\\nsamples = 15\\nvalue = [0, 15, 0, 0]'),\n",
       " Text(0.6052631578947368, 0.32142857142857145, 'X[2] <= 1.5\\ngini = 0.397\\nsamples = 11\\nvalue = [3, 8, 0, 0]'),\n",
       " Text(0.5921052631578947, 0.25, 'gini = 0.0\\nsamples = 2\\nvalue = [2, 0, 0, 0]'),\n",
       " Text(0.618421052631579, 0.25, 'X[2] <= 2.5\\ngini = 0.198\\nsamples = 9\\nvalue = [1, 8, 0, 0]'),\n",
       " Text(0.6052631578947368, 0.17857142857142858, 'X[3] <= 2.5\\ngini = 0.444\\nsamples = 3\\nvalue = [1, 2, 0, 0]'),\n",
       " Text(0.5921052631578947, 0.10714285714285714, 'gini = 0.0\\nsamples = 1\\nvalue = [1, 0, 0, 0]'),\n",
       " Text(0.618421052631579, 0.10714285714285714, 'gini = 0.0\\nsamples = 2\\nvalue = [0, 2, 0, 0]'),\n",
       " Text(0.631578947368421, 0.17857142857142858, 'gini = 0.0\\nsamples = 6\\nvalue = [0, 6, 0, 0]'),\n",
       " Text(0.6710526315789473, 0.39285714285714285, 'X[0] <= 2.5\\ngini = 0.471\\nsamples = 29\\nvalue = [18, 11, 0, 0]'),\n",
       " Text(0.6578947368421053, 0.32142857142857145, 'gini = 0.0\\nsamples = 16\\nvalue = [16, 0, 0, 0]'),\n",
       " Text(0.6842105263157895, 0.32142857142857145, 'X[2] <= 2.5\\ngini = 0.26\\nsamples = 13\\nvalue = [2, 11, 0, 0]'),\n",
       " Text(0.6710526315789473, 0.25, 'X[3] <= 2.5\\ngini = 0.444\\nsamples = 6\\nvalue = [2, 4, 0, 0]'),\n",
       " Text(0.6578947368421053, 0.17857142857142858, 'X[4] <= 2.5\\ngini = 0.444\\nsamples = 3\\nvalue = [2, 1, 0, 0]'),\n",
       " Text(0.6447368421052632, 0.10714285714285714, 'gini = 0.0\\nsamples = 1\\nvalue = [0, 1, 0, 0]'),\n",
       " Text(0.6710526315789473, 0.10714285714285714, 'gini = 0.0\\nsamples = 2\\nvalue = [2, 0, 0, 0]'),\n",
       " Text(0.6842105263157895, 0.17857142857142858, 'gini = 0.0\\nsamples = 3\\nvalue = [0, 3, 0, 0]'),\n",
       " Text(0.6973684210526315, 0.25, 'gini = 0.0\\nsamples = 7\\nvalue = [0, 7, 0, 0]'),\n",
       " Text(0.7960526315789473, 0.5357142857142857, 'X[4] <= 1.5\\ngini = 0.581\\nsamples = 70\\nvalue = [6, 20, 4, 40]'),\n",
       " Text(0.75, 0.4642857142857143, 'X[2] <= 1.5\\ngini = 0.486\\nsamples = 25\\nvalue = [4, 17, 4, 0]'),\n",
       " Text(0.7236842105263158, 0.39285714285714285, 'X[3] <= 2.5\\ngini = 0.49\\nsamples = 7\\nvalue = [0, 3, 4, 0]'),\n",
       " Text(0.7105263157894737, 0.32142857142857145, 'gini = 0.0\\nsamples = 3\\nvalue = [0, 3, 0, 0]'),\n",
       " Text(0.7368421052631579, 0.32142857142857145, 'gini = 0.0\\nsamples = 4\\nvalue = [0, 0, 4, 0]'),\n",
       " Text(0.7763157894736842, 0.39285714285714285, 'X[0] <= 2.5\\ngini = 0.346\\nsamples = 18\\nvalue = [4, 14, 0, 0]'),\n",
       " Text(0.7631578947368421, 0.32142857142857145, 'X[1] <= 3.5\\ngini = 0.5\\nsamples = 8\\nvalue = [4, 4, 0, 0]'),\n",
       " Text(0.75, 0.25, 'gini = 0.0\\nsamples = 4\\nvalue = [0, 4, 0, 0]'),\n",
       " Text(0.7763157894736842, 0.25, 'gini = 0.0\\nsamples = 4\\nvalue = [4, 0, 0, 0]'),\n",
       " Text(0.7894736842105263, 0.32142857142857145, 'gini = 0.0\\nsamples = 10\\nvalue = [0, 10, 0, 0]'),\n",
       " Text(0.8421052631578947, 0.4642857142857143, 'X[2] <= 2.5\\ngini = 0.203\\nsamples = 45\\nvalue = [2, 3, 0, 40]'),\n",
       " Text(0.8289473684210527, 0.39285714285714285, 'X[4] <= 2.5\\ngini = 0.438\\nsamples = 18\\nvalue = [2, 3, 0, 13]'),\n",
       " Text(0.8157894736842105, 0.32142857142857145, 'gini = 0.0\\nsamples = 11\\nvalue = [0, 0, 0, 11]'),\n",
       " Text(0.8421052631578947, 0.32142857142857145, 'X[0] <= 2.5\\ngini = 0.653\\nsamples = 7\\nvalue = [2, 3, 0, 2]'),\n",
       " Text(0.8289473684210527, 0.25, 'X[3] <= 2.5\\ngini = 0.5\\nsamples = 4\\nvalue = [2, 0, 0, 2]'),\n",
       " Text(0.8157894736842105, 0.17857142857142858, 'gini = 0.0\\nsamples = 2\\nvalue = [2, 0, 0, 0]'),\n",
       " Text(0.8421052631578947, 0.17857142857142858, 'gini = 0.0\\nsamples = 2\\nvalue = [0, 0, 0, 2]'),\n",
       " Text(0.8552631578947368, 0.25, 'gini = 0.0\\nsamples = 3\\nvalue = [0, 3, 0, 0]'),\n",
       " Text(0.8552631578947368, 0.39285714285714285, 'gini = 0.0\\nsamples = 27\\nvalue = [0, 0, 0, 27]'),\n",
       " Text(0.9342105263157895, 0.6785714285714286, 'X[4] <= 1.5\\ngini = 0.384\\nsamples = 85\\nvalue = [63, 0, 22, 0]'),\n",
       " Text(0.8947368421052632, 0.6071428571428571, 'X[5] <= 2.5\\ngini = 0.485\\nsamples = 29\\nvalue = [12, 0, 17, 0]'),\n",
       " Text(0.881578947368421, 0.5357142857142857, 'gini = 0.0\\nsamples = 15\\nvalue = [0, 0, 15, 0]'),\n",
       " Text(0.9078947368421053, 0.5357142857142857, 'X[2] <= 1.5\\ngini = 0.245\\nsamples = 14\\nvalue = [12, 0, 2, 0]'),\n",
       " Text(0.8947368421052632, 0.4642857142857143, 'X[3] <= 2.5\\ngini = 0.5\\nsamples = 4\\nvalue = [2, 0, 2, 0]'),\n",
       " Text(0.881578947368421, 0.39285714285714285, 'gini = 0.0\\nsamples = 2\\nvalue = [2, 0, 0, 0]'),\n",
       " Text(0.9078947368421053, 0.39285714285714285, 'gini = 0.0\\nsamples = 2\\nvalue = [0, 0, 2, 0]'),\n",
       " Text(0.9210526315789473, 0.4642857142857143, 'gini = 0.0\\nsamples = 10\\nvalue = [10, 0, 0, 0]'),\n",
       " Text(0.9736842105263158, 0.6071428571428571, 'X[5] <= 2.5\\ngini = 0.163\\nsamples = 56\\nvalue = [51, 0, 5, 0]'),\n",
       " Text(0.9605263157894737, 0.5357142857142857, 'X[2] <= 2.5\\ngini = 0.293\\nsamples = 28\\nvalue = [23, 0, 5, 0]'),\n",
       " Text(0.9473684210526315, 0.4642857142857143, 'X[4] <= 2.5\\ngini = 0.459\\nsamples = 14\\nvalue = [9, 0, 5, 0]'),\n",
       " Text(0.9342105263157895, 0.39285714285714285, 'gini = 0.0\\nsamples = 7\\nvalue = [7, 0, 0, 0]'),\n",
       " Text(0.9605263157894737, 0.39285714285714285, 'X[2] <= 1.5\\ngini = 0.408\\nsamples = 7\\nvalue = [2, 0, 5, 0]'),\n",
       " Text(0.9473684210526315, 0.32142857142857145, 'gini = 0.0\\nsamples = 3\\nvalue = [0, 0, 3, 0]'),\n",
       " Text(0.9736842105263158, 0.32142857142857145, 'X[3] <= 2.5\\ngini = 0.5\\nsamples = 4\\nvalue = [2, 0, 2, 0]'),\n",
       " Text(0.9605263157894737, 0.25, 'gini = 0.0\\nsamples = 2\\nvalue = [0, 0, 2, 0]'),\n",
       " Text(0.9868421052631579, 0.25, 'gini = 0.0\\nsamples = 2\\nvalue = [2, 0, 0, 0]'),\n",
       " Text(0.9736842105263158, 0.4642857142857143, 'gini = 0.0\\nsamples = 14\\nvalue = [14, 0, 0, 0]'),\n",
       " Text(0.9868421052631579, 0.5357142857142857, 'gini = 0.0\\nsamples = 28\\nvalue = [28, 0, 0, 0]')]"
      ]
     },
     "execution_count": 60,
     "metadata": {},
     "output_type": "execute_result"
    },
    {
     "data": {
      "image/png": "[encoded data removed]",
      "text/plain": [
       "<Figure size 864x648 with 1 Axes>"
      ]
     },
     "metadata": {
      "needs_background": "light"
     },
     "output_type": "display_data"
    }
   ],
   "source": [
    "plt.figure(figsize=(12,9))\n",
    "from sklearn import tree\n",
    "tree.plot_tree(DT_gini.fit(x_train, y_train))"
   ]
  }
 ],
 "metadata": {
  "kernelspec": {
   "display_name": "Python 3 (ipykernel)",
   "language": "python",
   "name": "python3"
  },
  "language_info": {
   "codemirror_mode": {
    "name": "ipython",
    "version": 3
   },
   "file_extension": ".py",
   "mimetype": "text/x-python",
   "name": "python",
   "nbconvert_exporter": "python",
   "pygments_lexer": "ipython3",
   "version": "3.10.2"
  }
 },
 "nbformat": 4,
 "nbformat_minor": 5
}
